{
 "cells": [
  {
   "cell_type": "code",
   "execution_count": 1,
   "metadata": {},
   "outputs": [],
   "source": [
    "import pandas as pd\n",
    "import pandasql as psql\n",
    "import pyodbc\n",
    "import glob, os"
   ]
  },
  {
   "cell_type": "code",
   "execution_count": 2,
   "metadata": {},
   "outputs": [],
   "source": [
    "cnx = pyodbc.connect('Driver={SQL Server};Server=.;Database=JNR;Trusted_Conneciton=Yes')"
   ]
  },
  {
   "cell_type": "code",
   "execution_count": 3,
   "metadata": {},
   "outputs": [],
   "source": [
    "path = 'C:\\\\Users\\\\Juan Giron\\\\Documents\\\\git_repo\\\\Inventory\\\\'"
   ]
  },
  {
   "cell_type": "code",
   "execution_count": 4,
   "metadata": {},
   "outputs": [
    {
     "data": {
      "text/html": [
       "<div>\n",
       "<style scoped>\n",
       "    .dataframe tbody tr th:only-of-type {\n",
       "        vertical-align: middle;\n",
       "    }\n",
       "\n",
       "    .dataframe tbody tr th {\n",
       "        vertical-align: top;\n",
       "    }\n",
       "\n",
       "    .dataframe thead th {\n",
       "        text-align: right;\n",
       "    }\n",
       "</style>\n",
       "<table border=\"1\" class=\"dataframe\">\n",
       "  <thead>\n",
       "    <tr style=\"text-align: right;\">\n",
       "      <th></th>\n",
       "      <th>DESCRIPTION</th>\n",
       "      <th>SKU</th>\n",
       "      <th>TOTAL</th>\n",
       "      <th>OBJECT_NAME</th>\n",
       "    </tr>\n",
       "  </thead>\n",
       "  <tbody>\n",
       "    <tr>\n",
       "      <th>0</th>\n",
       "      <td>Ascent - 50ml EDP Romantic Magnolia</td>\n",
       "      <td>857792005238</td>\n",
       "      <td>28</td>\n",
       "      <td>3PL_GROUP.xlsx</td>\n",
       "    </tr>\n",
       "    <tr>\n",
       "      <th>1</th>\n",
       "      <td>Kopari - 2oz/(60ml) Detox Mask</td>\n",
       "      <td>851989006763</td>\n",
       "      <td>921</td>\n",
       "      <td>3PL_GROUP.xlsx</td>\n",
       "    </tr>\n",
       "    <tr>\n",
       "      <th>2</th>\n",
       "      <td>Kopari - Coco Mint Oil Pulling - Cylinder</td>\n",
       "      <td>851989006701</td>\n",
       "      <td>717</td>\n",
       "      <td>3PL_GROUP.xlsx</td>\n",
       "    </tr>\n",
       "    <tr>\n",
       "      <th>3</th>\n",
       "      <td>Kopari - Love Melt Carton - 15 Packettes</td>\n",
       "      <td>851989006961</td>\n",
       "      <td>1889</td>\n",
       "      <td>3PL_GROUP.xlsx</td>\n",
       "    </tr>\n",
       "    <tr>\n",
       "      <th>4</th>\n",
       "      <td>Kopari - 3.4oz/(96g) Coconut Charcoal Toothpaste</td>\n",
       "      <td>851989006794</td>\n",
       "      <td>1756</td>\n",
       "      <td>3PL_GROUP.xlsx</td>\n",
       "    </tr>\n",
       "    <tr>\n",
       "      <th>...</th>\n",
       "      <td>...</td>\n",
       "      <td>...</td>\n",
       "      <td>...</td>\n",
       "      <td>...</td>\n",
       "    </tr>\n",
       "    <tr>\n",
       "      <th>4481</th>\n",
       "      <td>627843736677 (Voir Haircare - Rhythm of the Ra...</td>\n",
       "      <td>627843736677</td>\n",
       "      <td>8528</td>\n",
       "      <td>RJTB_GROUP_QBW.xlsx</td>\n",
       "    </tr>\n",
       "    <tr>\n",
       "      <th>4482</th>\n",
       "      <td>883967471119 (Catherines Garden 2 Wick Lace Ed...</td>\n",
       "      <td>883967471119</td>\n",
       "      <td>108</td>\n",
       "      <td>RJTB_GROUP_QBW.xlsx</td>\n",
       "    </tr>\n",
       "    <tr>\n",
       "      <th>4483</th>\n",
       "      <td>883967471324 (Caherines Garden Gift Bosed Asso...</td>\n",
       "      <td>883967471324</td>\n",
       "      <td>1027</td>\n",
       "      <td>RJTB_GROUP_QBW.xlsx</td>\n",
       "    </tr>\n",
       "    <tr>\n",
       "      <th>4484</th>\n",
       "      <td>857798225849 (Mario Lopez Red Deo Spray 2-Pack...</td>\n",
       "      <td>857798225849</td>\n",
       "      <td>-1</td>\n",
       "      <td>RJTB_GROUP_QBW.xlsx</td>\n",
       "    </tr>\n",
       "    <tr>\n",
       "      <th>4485</th>\n",
       "      <td>150951 (Stash 30ml Hair &amp; Body Elixir Oil)</td>\n",
       "      <td>150951</td>\n",
       "      <td>-18</td>\n",
       "      <td>RJTB_GROUP_QBW.xlsx</td>\n",
       "    </tr>\n",
       "  </tbody>\n",
       "</table>\n",
       "<p>4486 rows × 4 columns</p>\n",
       "</div>"
      ],
      "text/plain": [
       "                                            DESCRIPTION           SKU  TOTAL  \\\n",
       "0                   Ascent - 50ml EDP Romantic Magnolia  857792005238     28   \n",
       "1                        Kopari - 2oz/(60ml) Detox Mask  851989006763    921   \n",
       "2             Kopari - Coco Mint Oil Pulling - Cylinder  851989006701    717   \n",
       "3              Kopari - Love Melt Carton - 15 Packettes  851989006961   1889   \n",
       "4      Kopari - 3.4oz/(96g) Coconut Charcoal Toothpaste  851989006794   1756   \n",
       "...                                                 ...           ...    ...   \n",
       "4481  627843736677 (Voir Haircare - Rhythm of the Ra...  627843736677   8528   \n",
       "4482  883967471119 (Catherines Garden 2 Wick Lace Ed...  883967471119    108   \n",
       "4483  883967471324 (Caherines Garden Gift Bosed Asso...  883967471324   1027   \n",
       "4484  857798225849 (Mario Lopez Red Deo Spray 2-Pack...  857798225849     -1   \n",
       "4485         150951 (Stash 30ml Hair & Body Elixir Oil)        150951    -18   \n",
       "\n",
       "              OBJECT_NAME  \n",
       "0          3PL_GROUP.xlsx  \n",
       "1          3PL_GROUP.xlsx  \n",
       "2          3PL_GROUP.xlsx  \n",
       "3          3PL_GROUP.xlsx  \n",
       "4          3PL_GROUP.xlsx  \n",
       "...                   ...  \n",
       "4481  RJTB_GROUP_QBW.xlsx  \n",
       "4482  RJTB_GROUP_QBW.xlsx  \n",
       "4483  RJTB_GROUP_QBW.xlsx  \n",
       "4484  RJTB_GROUP_QBW.xlsx  \n",
       "4485  RJTB_GROUP_QBW.xlsx  \n",
       "\n",
       "[4486 rows x 4 columns]"
      ]
     },
     "execution_count": 4,
     "metadata": {},
     "output_type": "execute_result"
    }
   ],
   "source": [
    "# read the entire directory and concat to a df\n",
    "all_files = glob.glob(os.path.join(path , \"*.xlsx\"))\n",
    "\n",
    "li = []\n",
    "\n",
    "for filename in all_files:\n",
    "    df = pd.read_excel(filename)\n",
    "    df['OBJECT_NAME'] = filename.replace(path+\"\\\\\",\"\")\n",
    "    df['OBJECT_NAME'] = filename.replace(path,\"\")\n",
    "    df['TOTAL'] = df['TOTAL'].astype(int)\n",
    "    li.append(df)\n",
    "\n",
    "frame = pd.concat(li, axis=0, ignore_index=True)\n",
    "frame"
   ]
  },
  {
   "cell_type": "code",
   "execution_count": 10,
   "metadata": {},
   "outputs": [],
   "source": [
    "frame = psql.sqldf('''\n",
    "select\n",
    "DESCRIPTION,\n",
    "SKU,\n",
    "cast(TOTAL as int) as TOTAL,\n",
    "OBJECT_NAME\n",
    "from frame\n",
    "''')"
   ]
  },
  {
   "cell_type": "code",
   "execution_count": 11,
   "metadata": {},
   "outputs": [],
   "source": [
    "cursor = cnx.cursor()\n",
    "# Insert Dataframe into SQL Server:\n",
    "for index, row in frame.iterrows():\n",
    "     cursor.execute(\"INSERT INTO dbo.tblRJTB_INVENTORY_SOURCE values(?,?,?,?)\", row.DESCRIPTION,row.SKU,row.TOTAL,row.OBJECT_NAME)\n",
    "cnx.commit()\n",
    "cursor.close()"
   ]
  },
  {
   "cell_type": "code",
   "execution_count": null,
   "metadata": {},
   "outputs": [],
   "source": []
  }
 ],
 "metadata": {
  "kernelspec": {
   "display_name": "Python 3.9.7 64-bit",
   "language": "python",
   "name": "python3"
  },
  "language_info": {
   "codemirror_mode": {
    "name": "ipython",
    "version": 3
   },
   "file_extension": ".py",
   "mimetype": "text/x-python",
   "name": "python",
   "nbconvert_exporter": "python",
   "pygments_lexer": "ipython3",
   "version": "3.9.7"
  },
  "orig_nbformat": 4,
  "vscode": {
   "interpreter": {
    "hash": "11938c6bc6919ae2720b4d5011047913343b08a43b18698fd82dedb0d4417594"
   }
  }
 },
 "nbformat": 4,
 "nbformat_minor": 2
}
